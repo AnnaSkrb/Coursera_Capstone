{
    "cells": [
        {
            "cell_type": "markdown",
            "metadata": {},
            "source": "# Capstone Project - The Battle of Neighborhoods (Week 1)"
        },
        {
            "cell_type": "markdown",
            "metadata": {},
            "source": "### Applied Data Science Capstone by IBM/Coursera"
        },
        {
            "cell_type": "markdown",
            "metadata": {},
            "source": "## Description of the problem and discussion of the background"
        },
        {
            "cell_type": "markdown",
            "metadata": {},
            "source": "As I am currently living in Madrid, I decided to choose this city for my final project in order to make it more personal.\n\nMadrid is the capital and most populous city in Spain. The city has almost 3.3 million inhabitants and a metropolitan area population of approximately 6.5 million covering an area of 4,609.7 square kilometers (1,780 sq mi). It is the second-largest city in the European Union, surpassed only by Berlin.\n\nMadrid is also the political, economic, and cultural center of the country. The Madrid urban agglomeration has the third-largest GDP in the European Union and its influence in politics, education, entertainment, environment, media, fashion, science, culture, and the arts all contribute to its status as one of the world's major global cities.\n\nThat is why the Spanish capital is so attractive for foreign and local investors which means that the market is highly competitive. And the cost of housing is also one of the highest - in terms of a real estate property Madrid is considered as one of the most expensive cities in Spain. \n\nOne of the reasons for choosing a real estate property could be the price as well as the social establishments. In this project, I will examine neighborhoods of Madrid by average price per square meter for second-hand housing in April 2020 and cluster them according to the venues density. The analysis will give an undestanding not only about a cost but  also the most pupular venues in certain areas and will be useful to anyone who is interested in investing in property in Madrid.\n"
        },
        {
            "cell_type": "markdown",
            "metadata": {},
            "source": "## Description of the data and how it will be used to solve the problem"
        },
        {
            "cell_type": "markdown",
            "metadata": {},
            "source": "My idea is to demonstrate the skills I have been equipped with from the previous modules of the course. So my goal is to combine my knowledge in using location data to explore a geographical location with visualization of geospatial data, choropleth maps specifically.\n\nTo solve the problem I will be using the following data about Madrid:\n\n**Data 1:** \n\nMadrid has a total of 21 districts and 131 neighborhoods. I will collect this data as well as the average prices of second-hand housing by a square meter in Madrid in April 2020 from the real estate portal [idealista.com](https://www.idealista.com/sala-de-prensa/informes-precio-vivienda/venta/madrid-comunidad/madrid-provincia/madrid/). Later I will need this data for creating a choropleth map as well.\n\n**Data 2:**\n\nTo explore the neighborhoods I will need its latitude and longitude coordinates. I will collect them from [GeoHack](https://tools.wmflabs.org/geohack/geohack.php?params=40.418888888889_N_-3.6919444444444_E_globe:earth&language=en) and merge with the Data 1. This data will be used as an input for the Foursquare API.\n\n**Data 3:**\n\nI will be using the [Foursquare API](https://developer.foursquare.com/) to get top venues of each neighborhoods and explore them.\n\n**Data 4:**\n\nFor creating a choropleth map I will need neighborhood divisions formatted in JSON. I have found it on [GitHub](https://gist.github.com/Saigesp/8ca8ca2a4ce33e8e9efe8f5752683f88).  \n\n\nSo, the data acquired for this project is a combination of four data sources.\n\n\n\n\n\n"
        }
    ],
    "metadata": {
        "kernelspec": {
            "display_name": "First",
            "language": "python",
            "name": "first"
        },
        "language_info": {
            "codemirror_mode": {
                "name": "ipython",
                "version": 3
            },
            "file_extension": ".py",
            "mimetype": "text/x-python",
            "name": "python",
            "nbconvert_exporter": "python",
            "pygments_lexer": "ipython3",
            "version": "3.8.2"
        }
    },
    "nbformat": 4,
    "nbformat_minor": 4
}